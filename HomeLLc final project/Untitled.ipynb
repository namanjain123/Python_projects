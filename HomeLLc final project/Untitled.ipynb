{
 "cells": [
  {
   "cell_type": "code",
   "execution_count": 2,
   "metadata": {},
   "outputs": [],
   "source": [
    "# Import libraries necessary for this project\n",
    "import numpy as np\n",
    "import pandas as pd\n",
    "from sklearn.model_selection import ShuffleSplit\n",
    "# Pretty display for notebooks\n",
    "%matplotlib inline"
   ]
  },
  {
   "cell_type": "code",
   "execution_count": 3,
   "metadata": {},
   "outputs": [],
   "source": [
    "# We will see that this is the main benchark for the price this is  S&P/Case-Shiller U.S. National Home Price Index\n",
    "# Collected from Fred\n",
    "data = pd.read_csv('CSUSHPISA.csv')"
   ]
  },
  {
   "cell_type": "markdown",
   "metadata": {},
   "source": [
    "# In this we will be taking many macro and micro factors for the study and analysis\n",
    "\n",
    "We will have some factors as a macro level trends that are mainly\n",
    "1)Popuplation Growth Rate\n",
    "\n",
    "2)the index of accessibility to radial highways\n",
    "\n",
    "3)property-tax rate per $10,000\n",
    "\n",
    "4)Median Population\n",
    "\n",
    "5)Unemployement\n",
    "\n",
    "6)Interest Rate\n",
    "\n",
    "7)Averegae home size\n",
    "\n",
    "8)Aveage income\n",
    "\n",
    "9)Money Liquifity\n",
    "\n",
    "# Micro Trends \n",
    "We will taking in this only a sinlge city example as a metric to study how these can affect in a short to long run\n",
    "\n",
    "1)per capita crime rate by town\n",
    "\n",
    "2)the proportion of residential land zoned for lots larger than 25,000 sq.ft.\n",
    "\n",
    "3)the proportion of non-retail business acres per town.\n",
    "\n",
    "4)the average number of rooms per dwelling\n",
    "\n",
    "5)the pupil-teacher ratio by town\n",
    "\n",
    "6)the proportion of people of African American descent by town\n",
    "\n",
    "7)the percentage lower status of the population\n",
    "\n",
    "8)the median value of owner-occupied homes in $1000s\n",
    "\n",
    "9)Proximity from hospital,education centre etc\n"
   ]
  },
  {
   "cell_type": "code",
   "execution_count": null,
   "metadata": {},
   "outputs": [],
   "source": []
  }
 ],
 "metadata": {
  "kernelspec": {
   "display_name": "Python 3",
   "language": "python",
   "name": "python3"
  },
  "language_info": {
   "codemirror_mode": {
    "name": "ipython",
    "version": 3
   },
   "file_extension": ".py",
   "mimetype": "text/x-python",
   "name": "python",
   "nbconvert_exporter": "python",
   "pygments_lexer": "ipython3",
   "version": "3.7.3"
  }
 },
 "nbformat": 4,
 "nbformat_minor": 2
}
